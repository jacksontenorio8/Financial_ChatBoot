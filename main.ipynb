{
 "cells": [
  {
   "cell_type": "code",
   "execution_count": null,
   "metadata": {
    "vscode": {
     "languageId": "plaintext"
    }
   },
   "outputs": [],
   "source": [
    "import os\n",
    "import PyPDF2\n",
    "import openai\n",
    "import faiss\n",
    "import numpy as np\n",
    "from langchain.embeddings.openai import OpenAIEmbeddings\n",
    "from langchain.vectorstores import FAISS\n",
    "from langchain.llms import OpenAI\n",
    "from langchain.chains import RetrievalQA"
   ]
  },
  {
   "cell_type": "code",
   "execution_count": null,
   "metadata": {},
   "outputs": [],
   "source": [
    "# Defina a chave da API OpenAI\n",
    "openai.api_key = \"xxxxxxxxxxxxxxxxxxxxxxxxxxxxxxxxxxxxx\"\n",
    "\n",
    "# Diretório contendo os PDFs\n",
    "PDF_DIR = \"inputs/\"\n",
    "\n",
    "# Função para extrair texto dos PDFs\n",
    "def extract_text_from_pdfs(pdfs):\n",
    "    texts = []\n",
    "    for file in os.listdir(pdfs):\n",
    "        if file.endswith(\".pdf\"):\n",
    "            with open(os.path.join(pdfs, file), \"rb\") as f:\n",
    "                reader = PyPDF2.PdfReader(f)\n",
    "                text = \" \".join([page.extract_text() for page in reader.pages if page.extract_text()])\n",
    "                texts.append(text)\n",
    "    return texts\n"
   ]
  },
  {
   "cell_type": "code",
   "execution_count": null,
   "metadata": {},
   "outputs": [],
   "source": [
    "# Extração de textos\n",
    "documents = extract_text_from_pdfs(/workspace/FINANCIAL_CHATBOOT/pdfs)\n",
    "\n",
    "# Geração de embeddings\n",
    "embeddings = OpenAIEmbeddings()\n",
    "vector_store = FAISS.from_texts(documents, embeddings)\n",
    "\n",
    "# Salvando índice para reutilização\n",
    "vector_store.save_local(\"faiss_index\")\n",
    "\n",
    "# Carregando o índice salvo\n",
    "vector_store = FAISS.load_local(\"faiss_index\", embeddings)\n",
    "\n",
    "# Criando um sistema de perguntas e respostas\n",
    "qa = RetrievalQA.from_chain_type(\n",
    "    llm=OpenAI(model_name=\"gpt-4o\"),\n",
    "    retriever=vector_store.as_retriever()\n",
    ")"
   ]
  },
  {
   "cell_type": "code",
   "execution_count": null,
   "metadata": {},
   "outputs": [],
   "source": [
    "# Interface simples para consulta\n",
    "while True:\n",
    "    query = input(\"Digite sua pergunta (ou 'sair' para encerrar): \")\n",
    "    if query.lower() == \"sair\":\n",
    "        break\n",
    "    resposta = qa.run(query)\n",
    "    print(\"\\nResposta: \", resposta)\n"
   ]
  }
 ],
 "metadata": {
  "language_info": {
   "name": "python"
  }
 },
 "nbformat": 4,
 "nbformat_minor": 2
}
